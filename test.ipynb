{
 "cells": [
  {
   "cell_type": "code",
   "execution_count": 21,
   "metadata": {},
   "outputs": [],
   "source": [
    "from pyfinite import ffield\n",
    "import bitstring"
   ]
  },
  {
   "cell_type": "code",
   "execution_count": 87,
   "metadata": {},
   "outputs": [
    {
     "data": {
      "text/plain": [
       "'x^31 + x^3 + 1'"
      ]
     },
     "execution_count": 87,
     "metadata": {},
     "output_type": "execute_result"
    }
   ],
   "source": [
    "F = ffield.FField(31)\n",
    "F.ShowPolynomial(F.generator)"
   ]
  },
  {
   "cell_type": "code",
   "execution_count": 131,
   "metadata": {},
   "outputs": [
    {
     "data": {
      "text/plain": [
       "x^10 + x^9 + x^8 + x^6 + x^5 + x^3 + 1"
      ]
     },
     "execution_count": 131,
     "metadata": {},
     "output_type": "execute_result"
    }
   ],
   "source": [
    "g = ffield.FElement(F, 0b11101101001) # generator\n",
    "g"
   ]
  },
  {
   "cell_type": "code",
   "execution_count": 132,
   "metadata": {},
   "outputs": [
    {
     "data": {
      "text/plain": [
       "x^20 + x^18 + x^17 + x^15 + x^14 + x^13 + x^11 + x^10 + x^9 + x^8 + x^6 + x^5 + x^4 + x^3 + x^2 + 1"
      ]
     },
     "execution_count": 132,
     "metadata": {},
     "output_type": "execute_result"
    }
   ],
   "source": [
    "p = ffield.FElement(F, 0b101101110111101111101) #message\n",
    "p"
   ]
  },
  {
   "cell_type": "code",
   "execution_count": 162,
   "metadata": {},
   "outputs": [
    {
     "data": {
      "text/plain": [
       "x^30 + x^28 + x^27 + x^25 + x^24 + x^23 + x^21 + x^20 + x^19 + x^18 + x^16 + x^15 + x^14 + x^13 + x^12 + x^10"
      ]
     },
     "execution_count": 162,
     "metadata": {},
     "output_type": "execute_result"
    }
   ],
   "source": [
    "x = p * ffield.FElement(F, 1 << 10) # shift\n",
    "x = p * ffield.FElement(F, 2**10) # Equivalent to above\n",
    "x"
   ]
  },
  {
   "cell_type": "code",
   "execution_count": 163,
   "metadata": {},
   "outputs": [
    {
     "data": {
      "text/plain": [
       "x^30 + x^29 + x^26 + x^25 + x^24 + x^22 + x^19 + x^17 + x^16 + x^15 + x^14 + x^12 + x^10 + x^9 + x^8 + x^6 + x^5 + x^4 + x^2 + 1"
      ]
     },
     "execution_count": 163,
     "metadata": {},
     "output_type": "execute_result"
    }
   ],
   "source": [
    "out = p * g\n",
    "out"
   ]
  },
  {
   "cell_type": "code",
   "execution_count": 197,
   "metadata": {},
   "outputs": [
    {
     "name": "stdout",
     "output_type": "stream",
     "text": [
      "x^30 + x^29 + x^26 + x^25 + x^24 + x^22 + x^19 + x^17 + x^16 + x^15 + x^14 + x^12 + x^10 + x^9 + x^8 + x^6 + x^5 + x^4 + x^2 + 1\n",
      "x^30 + x^29 + x^28 + x^26 + x^25 + x^24 + x^22 + x^19 + x^17 + x^16 + x^15 + x^14 + x^12 + x^10 + x^9 + x^8 + x^6 + x^5 + x^4 + x^2 + 1\n"
     ]
    }
   ],
   "source": [
    "flipped = ffield.FElement(F, out.f ^ 1<<28)\n",
    "print(out)\n",
    "print(flipped)"
   ]
  },
  {
   "cell_type": "code",
   "execution_count": 204,
   "metadata": {},
   "outputs": [
    {
     "data": {
      "text/plain": [
       "x^7 + x^6 + x^5 + x^3 + x^2 + 1"
      ]
     },
     "execution_count": 204,
     "metadata": {},
     "output_type": "execute_result"
    }
   ],
   "source": [
    "flipped % g"
   ]
  }
 ],
 "metadata": {
  "kernelspec": {
   "display_name": "Python 3",
   "language": "python",
   "name": "python3"
  },
  "language_info": {
   "codemirror_mode": {
    "name": "ipython",
    "version": 3
   },
   "file_extension": ".py",
   "mimetype": "text/x-python",
   "name": "python",
   "nbconvert_exporter": "python",
   "pygments_lexer": "ipython3",
   "version": "3.11.3"
  },
  "orig_nbformat": 4
 },
 "nbformat": 4,
 "nbformat_minor": 2
}
