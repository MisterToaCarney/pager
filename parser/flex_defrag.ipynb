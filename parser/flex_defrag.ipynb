{
 "cells": [
  {
   "cell_type": "code",
   "execution_count": 25,
   "metadata": {},
   "outputs": [],
   "source": [
    "import pandas as pd\n",
    "import re\n",
    "from pathlib import Path\n",
    "import datetime\n",
    "from dataclasses import dataclass"
   ]
  },
  {
   "cell_type": "code",
   "execution_count": 6,
   "metadata": {},
   "outputs": [],
   "source": [
    "log_path = Path(\"../pager.log\")\n",
    "date_re = re.compile(\" (\\d{4}-\\d{2}-\\d{2} \\d{2}:\\d{2}:\\d{2}):\")\n",
    "flex_re = re.compile(\"FLEX_NEXT\\|(\\d+)\\/(\\d+)\\|(\\d+\\.\\d+\\.\\w)\\|(\\d+)\\|(\\w{2})\\|(\\d)\\|(\\w+)\\|(\\d)\\.(\\d)\\.(K|F|C)\\|(.*)\")"
   ]
  },
  {
   "cell_type": "code",
   "execution_count": 13,
   "metadata": {},
   "outputs": [],
   "source": [
    "@dataclass\n",
    "class FragmentItem:\n",
    "    text: str\n",
    "    time: float"
   ]
  },
  {
   "cell_type": "code",
   "execution_count": 90,
   "metadata": {},
   "outputs": [],
   "source": [
    "fragment_messages = {}\n",
    "with open(log_path) as f:\n",
    "    for line in f:\n",
    "        date_match = date_re.search(line)\n",
    "        flex_match = flex_re.search(line)\n",
    "        \n",
    "        if flex_match is None: continue\n",
    "        if date_match is None: continue\n",
    "        try: timestamp = datetime.strptime(date_match[1], \"%Y-%m-%d %H:%M:%S\").timestamp()\n",
    "        except: continue\n",
    "\n",
    "        frag_flag = flex_match[10]\n",
    "        address = flex_match[4]\n",
    "        text = flex_match[11]\n",
    "\n",
    "        if frag_flag == \"K\": continue\n",
    "\n",
    "        elif frag_flag == \"F\":\n",
    "            fragment_messages[address] = FragmentItem(text=text, time=timestamp) # This will overwite any previous incomplete messages to the address\n",
    "            \n",
    "        elif frag_flag == \"C\":\n",
    "            if not address in fragment_messages: # Ignore C's without a previous F\n",
    "                continue \n",
    "            else:\n",
    "                fragment_messages[address].text += text\n",
    "                # print(\"[DEFRAG]\", fragment_messages[address].text)\n",
    "                del fragment_messages[address]\n",
    "\n",
    "        # Clean stale fragments to avoid memory leak\n",
    "        for addr, frag_item in list(fragment_messages.items()):\n",
    "            if timestamp - frag_item.time > 10: del fragment_messages[addr]        \n",
    "\n"
   ]
  },
  {
   "cell_type": "code",
   "execution_count": null,
   "metadata": {},
   "outputs": [],
   "source": []
  }
 ],
 "metadata": {
  "kernelspec": {
   "display_name": "Python 3",
   "language": "python",
   "name": "python3"
  },
  "language_info": {
   "codemirror_mode": {
    "name": "ipython",
    "version": 3
   },
   "file_extension": ".py",
   "mimetype": "text/x-python",
   "name": "python",
   "nbconvert_exporter": "python",
   "pygments_lexer": "ipython3",
   "version": "3.11.3"
  },
  "orig_nbformat": 4
 },
 "nbformat": 4,
 "nbformat_minor": 2
}
